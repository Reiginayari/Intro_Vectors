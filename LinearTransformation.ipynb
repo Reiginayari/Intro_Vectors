{
 "cells": [
  {
   "cell_type": "code",
   "execution_count": null,
   "metadata": {},
   "outputs": [],
   "source": [
    "import numpy as np\n",
    "\n",
    "# Function to find the determinant of a matrix\n",
    "def determinant(matrix):\n",
    "    \"\"\"\n",
    "    Calculates the determinant of a square matrix.\n",
    "    \"\"\"\n",
    "    n = len(matrix)\n",
    "    \n",
    "    # Base case: 1x1 matrix\n",
    "    if n == 1:\n",
    "        return matrix[0, 0]\n",
    "    \n",
    "    det = 0\n",
    "    for i in range(n):\n",
    "        # Minor matrix excluding the current row and column\n",
    "        minor = np.delete(np.delete(matrix, i, axis=0), 0, axis=1)\n",
    "        \n",
    "        # Recursive expansion\n",
    "        det += ((-1) ** i) * matrix[i, 0] * determinant(minor)\n",
    "    \n",
    "    return det\n",
    "\n",
    "# Function to find eigenvalues and eigenvectors of a matrix\n",
    "def eigen(matrix):\n",
    "    \"\"\"\n",
    "    Finds eigenvalues and eigenvectors of a square matrix.\n",
    "    \"\"\"\n",
    "    eigenvalues, eigenvectors = np.linalg.eig(matrix)\n",
    "    return eigenvalues, eigenvectors\n",
    "\n",
    "# Test the functions with a simple 2x2 matrix\n",
    "random_matrix = np.random.randint(1, 10, (2, 2))\n",
    "print(\"Randomly Generated Matrix:\")\n",
    "print(random_matrix)\n",
    "\n",
    "det_result = determinant(random_matrix)\n",
    "print(\"\\nDeterminant of the Matrix:\")\n",
    "print(det_result)\n",
    "\n",
    "eigenvalues, eigenvectors = eigen(random_matrix)\n",
    "print(\"\\nEigenvalues:\")\n",
    "print(eigenvalues)\n",
    "print(\"\\nEigenvectors:\")\n",
    "print(eigenvectors)\n"
   ]
  },
  {
   "cell_type": "code",
   "execution_count": null,
   "metadata": {},
   "outputs": [],
   "source": []
  }
 ],
 "metadata": {
  "language_info": {
   "name": "python"
  }
 },
 "nbformat": 4,
 "nbformat_minor": 2
}
